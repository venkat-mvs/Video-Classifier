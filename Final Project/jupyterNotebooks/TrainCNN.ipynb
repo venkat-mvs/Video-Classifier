{
 "cells": [
  {
   "cell_type": "code",
   "execution_count": 0,
   "metadata": {
    "colab": {},
    "colab_type": "code",
    "id": "gEWXDFQtDGwR"
   },
   "outputs": [],
   "source": [
    "!cp /content/drive/My\\ Drive/Project\\ Shit/new\\ data.zip /content/"
   ]
  },
  {
   "cell_type": "code",
   "execution_count": 0,
   "metadata": {
    "colab": {
     "base_uri": "https://localhost:8080/",
     "height": 746
    },
    "colab_type": "code",
    "id": "lqVYtwj_guQG",
    "outputId": "dd87f179-e449-4e68-f3a2-fac33177fea3"
   },
   "outputs": [
    {
     "name": "stdout",
     "output_type": "stream",
     "text": [
      "Archive:  new data.zip\n",
      "   creating: ./data/new data/\n",
      "   creating: ./data/new data/SkateBoarding/\n",
      "  inflating: ./data/new data/SkateBoarding/708-75070.avi  \n",
      "  inflating: ./data/new data/SkateBoarding/711-66044.avi  \n",
      "  inflating: ./data/new data/SkateBoarding/708-77009.avi  \n",
      "  inflating: ./data/new data/SkateBoarding/1058-22003.avi  \n",
      "  inflating: ./data/new data/SkateBoarding/761-39000.avi  \n",
      "  inflating: ./data/new data/SkateBoarding/947-58108.avi  \n",
      "  inflating: ./data/new data/SkateBoarding/860-37150.avi  \n",
      "  inflating: ./data/new data/SkateBoarding/947-70005.avi  \n",
      "  inflating: ./data/new data/SkateBoarding/860-2729.avi  \n",
      "   creating: ./data/new data/Running/\n",
      "  inflating: ./data/new data/Running/2670-5_70111.avi  \n",
      "  inflating: ./data/new data/Running/5238-17_701141.avi  \n",
      "  inflating: ./data/new data/Running/5238-17_700000.avi  \n",
      "  inflating: ./data/new data/Running/3687-17_70245.avi  \n",
      "  inflating: ./data/new data/Running/5117-8_70157.avi  \n",
      "  inflating: ./data/new data/Running/7850-5_70090.avi  \n",
      "  inflating: ./data/new data/Running/5238-17_701581.avi  \n",
      "  inflating: ./data/new data/Running/5238-17_700950.avi  \n",
      "  inflating: ./data/new data/Running/6065-8_70110.avi  \n",
      "   creating: ./data/new data/Golf Swinging/\n",
      "  inflating: ./data/new data/Golf Swinging/RF1-13588_70046.avi  \n",
      "  inflating: ./data/new data/Golf Swinging/3283-8_701201.avi  \n",
      "  inflating: ./data/new data/Golf Swinging/RF1-13678_70045.avi  \n",
      "  inflating: ./data/new data/Golf Swinging/RF1-13157_70040.avi  \n",
      "  inflating: ./data/new data/Golf Swinging/7603-4_70159.avi  \n",
      "  inflating: ./data/new data/Golf Swinging/RF1-13209_70050.avi  \n",
      "  inflating: ./data/new data/Golf Swinging/7608-12_70275.avi  \n",
      "  inflating: ./data/new data/Golf Swinging/7616-7_70270.avi  \n",
      "  inflating: ./data/new data/Golf Swinging/RF1-13428_70288.avi  \n",
      "   creating: ./data/new data/Riding Horse/\n",
      "  inflating: ./data/new data/Riding Horse/4456-16_700516.avi  \n",
      "  inflating: ./data/new data/Riding Horse/6326-9_70170.avi  \n",
      "  inflating: ./data/new data/Riding Horse/6029-1_70001.avi  \n",
      "  inflating: ./data/new data/Riding Horse/4456-16_700165.avi  \n",
      "  inflating: ./data/new data/Riding Horse/1098-6_70000.avi  \n",
      "  inflating: ./data/new data/Riding Horse/RF1-12001_70063.avi  \n",
      "  inflating: ./data/new data/Riding Horse/4456-16_700406.avi  \n",
      "  inflating: ./data/new data/Riding Horse/6029-1_70143.avi  \n",
      "  inflating: ./data/new data/Riding Horse/6018-29_70000.avi  \n"
     ]
    }
   ],
   "source": [
    "!unzip new\\ data.zip -d ./data"
   ]
  },
  {
   "cell_type": "code",
   "execution_count": 0,
   "metadata": {
    "colab": {},
    "colab_type": "code",
    "id": "3SvCZLxBuiL8"
   },
   "outputs": [],
   "source": [
    "!"
   ]
  },
  {
   "cell_type": "code",
   "execution_count": 0,
   "metadata": {
    "colab": {
     "base_uri": "https://localhost:8080/",
     "height": 729
    },
    "colab_type": "code",
    "id": "d70RJ3REiHDT",
    "outputId": "b27d8751-6c93-476e-b923-71fb3ec1b3d1"
   },
   "outputs": [
    {
     "name": "stdout",
     "output_type": "stream",
     "text": [
      "[INFO] Directories Created\n",
      "[INFO] ./data/video_data/Riding Horse/6029-1_70001.avi(57) is completed\n",
      "[INFO] ./data/video_data/Riding Horse/1098-6_70000.avi(58) is completed\n",
      "[INFO] ./data/video_data/Riding Horse/4456-16_700516.avi(60) is completed\n",
      "[INFO] ./data/video_data/Riding Horse/RF1-12001_70063.avi(60) is completed\n",
      "[INFO] ./data/video_data/Riding Horse/4456-16_700165.avi(60) is completed\n",
      "[INFO] ./data/video_data/Riding Horse/6029-1_70143.avi(60) is completed\n",
      "[INFO] ./data/video_data/Riding Horse/6018-29_70000.avi(39) is completed\n",
      "[INFO] ./data/video_data/Riding Horse/6326-9_70170.avi(60) is completed\n",
      "[INFO] ./data/video_data/Riding Horse/4456-16_700406.avi(60) is completed\n",
      "[INFO] Riding Horse completed\n",
      "[INFO] ./data/video_data/SkateBoarding/947-58108.avi(70) is completed\n",
      "[INFO] ./data/video_data/SkateBoarding/761-39000.avi(70) is completed\n",
      "[INFO] ./data/video_data/SkateBoarding/947-70005.avi(70) is completed\n",
      "[INFO] ./data/video_data/SkateBoarding/860-37150.avi(70) is completed\n",
      "[INFO] ./data/video_data/SkateBoarding/708-75070.avi(70) is completed\n",
      "[INFO] ./data/video_data/SkateBoarding/1058-22003.avi(70) is completed\n",
      "[INFO] ./data/video_data/SkateBoarding/860-2729.avi(70) is completed\n",
      "[INFO] ./data/video_data/SkateBoarding/711-66044.avi(70) is completed\n",
      "[INFO] ./data/video_data/SkateBoarding/708-77009.avi(70) is completed\n",
      "[INFO] SkateBoarding completed\n",
      "[INFO] ./data/video_data/Running/5238-17_700950.avi(65) is completed\n",
      "[INFO] ./data/video_data/Running/5117-8_70157.avi(65) is completed\n",
      "[INFO] ./data/video_data/Running/5238-17_701141.avi(65) is completed\n",
      "[INFO] ./data/video_data/Running/3687-17_70245.avi(65) is completed\n",
      "[INFO] ./data/video_data/Running/5238-17_701581.avi(65) is completed\n",
      "[INFO] ./data/video_data/Running/5238-17_700000.avi(65) is completed\n",
      "[INFO] ./data/video_data/Running/2670-5_70111.avi(65) is completed\n",
      "[INFO] ./data/video_data/Running/6065-8_70110.avi(65) is completed\n",
      "[INFO] ./data/video_data/Running/7850-5_70090.avi(65) is completed\n",
      "[INFO] Running completed\n",
      "[INFO] ./data/video_data/Golf Swinging/RF1-13209_70050.avi(60) is completed\n",
      "[INFO] ./data/video_data/Golf Swinging/7603-4_70159.avi(60) is completed\n",
      "[INFO] ./data/video_data/Golf Swinging/7616-7_70270.avi(60) is completed\n",
      "[INFO] ./data/video_data/Golf Swinging/RF1-13678_70045.avi(60) is completed\n",
      "[INFO] ./data/video_data/Golf Swinging/RF1-13157_70040.avi(60) is completed\n",
      "[INFO] ./data/video_data/Golf Swinging/RF1-13588_70046.avi(60) is completed\n",
      "[INFO] ./data/video_data/Golf Swinging/7608-12_70275.avi(60) is completed\n",
      "[INFO] ./data/video_data/Golf Swinging/RF1-13428_70288.avi(60) is completed\n",
      "[INFO] ./data/video_data/Golf Swinging/3283-8_701201.avi(60) is completed\n",
      "[INFO] Golf Swinging completed\n"
     ]
    }
   ],
   "source": [
    "!python3 extract.py"
   ]
  },
  {
   "cell_type": "code",
   "execution_count": 0,
   "metadata": {
    "colab": {},
    "colab_type": "code",
    "id": "IQj9hdnWmcON"
   },
   "outputs": [],
   "source": [
    "IMAGE_SIZE = [224, 224]\n",
    "BATCH_SIZE = 32\n",
    "IMG_DIR = \"data/image_data\""
   ]
  },
  {
   "cell_type": "code",
   "execution_count": 0,
   "metadata": {
    "colab": {},
    "colab_type": "code",
    "id": "asV0BTsBipy5"
   },
   "outputs": [],
   "source": [
    "import keras\n",
    "from keras.preprocessing.image import ImageDataGenerator\n",
    "from keras.models import Sequential\n",
    "from keras.layers import Flatten, Dense, Dropout, MaxPooling2D\n",
    "from keras.callbacks import EarlyStopping, ReduceLROnPlateau, ModelCheckpoint"
   ]
  },
  {
   "cell_type": "code",
   "execution_count": 0,
   "metadata": {
    "colab": {},
    "colab_type": "code",
    "id": "diTKH0GLouIW"
   },
   "outputs": [],
   "source": [
    "train_datagen = ImageDataGenerator(\n",
    "    rotation_range=40,\n",
    "    width_shift_range=0.2,\n",
    "    height_shift_range=0.2,\n",
    "    rescale=1/255,\n",
    "    shear_range=0.2,\n",
    "    zoom_range=0.2,\n",
    "    fill_mode='nearest',\n",
    "    horizontal_flip = True,\n",
    "    validation_split=0.2\n",
    ")\n",
    "test_datagen = ImageDataGenerator(\n",
    "    rescale=1/255,\n",
    ")"
   ]
  },
  {
   "cell_type": "code",
   "execution_count": 0,
   "metadata": {
    "colab": {
     "base_uri": "https://localhost:8080/",
     "height": 34
    },
    "colab_type": "code",
    "id": "SGpyekYAHrAH",
    "outputId": "8c90bf0b-f741-4296-950f-a8b85c6692a9"
   },
   "outputs": [
    {
     "name": "stdout",
     "output_type": "stream",
     "text": [
      "rmdir: failed to remove 'data/image_data/.ipynb_checkpoints': No such file or directory\n"
     ]
    }
   ],
   "source": [
    "!rmdir data/image_data/.ipynb_checkpoints"
   ]
  },
  {
   "cell_type": "code",
   "execution_count": 0,
   "metadata": {
    "colab": {
     "base_uri": "https://localhost:8080/",
     "height": 52
    },
    "colab_type": "code",
    "id": "kS0pIfFfpLvn",
    "outputId": "a4fb5014-9cca-46a7-987e-45bc51a8f19e"
   },
   "outputs": [
    {
     "name": "stdout",
     "output_type": "stream",
     "text": [
      "Found 292 images belonging to 4 classes.\n",
      "Found 71 images belonging to 4 classes.\n"
     ]
    }
   ],
   "source": [
    "train_generator = train_datagen.flow_from_directory(\n",
    "    IMG_DIR,\n",
    "    target_size=IMAGE_SIZE,\n",
    "    batch_size=BATCH_SIZE,\n",
    "    class_mode='categorical',\n",
    "    subset='training',\n",
    ")\n",
    "validation_generator = train_datagen.flow_from_directory(\n",
    "    IMG_DIR,\n",
    "    target_size=IMAGE_SIZE,\n",
    "    batch_size=BATCH_SIZE,\n",
    "    class_mode='categorical',\n",
    "    subset='validation'\n",
    ")"
   ]
  },
  {
   "cell_type": "code",
   "execution_count": 0,
   "metadata": {
    "colab": {
     "base_uri": "https://localhost:8080/",
     "height": 52
    },
    "colab_type": "code",
    "id": "jM8Jn2ciricc",
    "outputId": "c213fd6c-f1f9-4753-c13f-ffe5a0f9001e"
   },
   "outputs": [
    {
     "name": "stdout",
     "output_type": "stream",
     "text": [
      "Total output neurons: 4\n"
     ]
    },
    {
     "data": {
      "text/plain": [
       "{'Golf Swinging': 0, 'Riding Horse': 1, 'Running': 2, 'SkateBoarding': 3}"
      ]
     },
     "execution_count": 17,
     "metadata": {
      "tags": []
     },
     "output_type": "execute_result"
    }
   ],
   "source": [
    "print(\"Total output neurons:\",len(train_generator.class_indices))\n",
    "train_generator.class_indices"
   ]
  },
  {
   "cell_type": "code",
   "execution_count": 0,
   "metadata": {
    "colab": {},
    "colab_type": "code",
    "id": "bBGJ_n1djDE3"
   },
   "outputs": [],
   "source": [
    "prior = keras.applications.VGG16(\n",
    "    include_top=False, \n",
    "    weights='imagenet',\n",
    "    input_shape=IMAGE_SIZE + [3]\n",
    ")\n",
    "model = Sequential()\n",
    "model.add(prior)\n",
    "model.add(MaxPooling2D(pool_size=(7, 7)))\n",
    "model.add(Flatten())\n",
    "model.add(Dense(512, activation=\"relu\"))\n",
    "model.add(Dropout(rate=0.2))\n",
    "model.add(Dense(len(train_generator.class_indices), activation='softmax', name='Output_Layer'))\n",
    "\n",
    "model.layers[0].trainable = False"
   ]
  },
  {
   "cell_type": "code",
   "execution_count": 0,
   "metadata": {
    "colab": {},
    "colab_type": "code",
    "id": "CT4zERAztN1M"
   },
   "outputs": [],
   "source": [
    "model.compile(\n",
    "    optimizer=\"adam\",\n",
    "    loss='categorical_crossentropy',\n",
    "    metrics=['accuracy']\n",
    ")"
   ]
  },
  {
   "cell_type": "code",
   "execution_count": 0,
   "metadata": {
    "colab": {
     "base_uri": "https://localhost:8080/",
     "height": 364
    },
    "colab_type": "code",
    "id": "3cjSjMxatvd_",
    "outputId": "27be18a3-eb26-4981-b8d6-589da53c9938"
   },
   "outputs": [
    {
     "name": "stdout",
     "output_type": "stream",
     "text": [
      "Model: \"sequential_2\"\n",
      "_________________________________________________________________\n",
      "Layer (type)                 Output Shape              Param #   \n",
      "=================================================================\n",
      "vgg16 (Model)                (None, 7, 7, 512)         14714688  \n",
      "_________________________________________________________________\n",
      "max_pooling2d_2 (MaxPooling2 (None, 1, 1, 512)         0         \n",
      "_________________________________________________________________\n",
      "flatten_2 (Flatten)          (None, 512)               0         \n",
      "_________________________________________________________________\n",
      "dense_2 (Dense)              (None, 512)               262656    \n",
      "_________________________________________________________________\n",
      "dropout_2 (Dropout)          (None, 512)               0         \n",
      "_________________________________________________________________\n",
      "Output_Layer (Dense)         (None, 4)                 2052      \n",
      "=================================================================\n",
      "Total params: 14,979,396\n",
      "Trainable params: 264,708\n",
      "Non-trainable params: 14,714,688\n",
      "_________________________________________________________________\n"
     ]
    }
   ],
   "source": [
    "model.summary()"
   ]
  },
  {
   "cell_type": "code",
   "execution_count": 0,
   "metadata": {
    "colab": {},
    "colab_type": "code",
    "id": "2cN2mUAxnD3w"
   },
   "outputs": [],
   "source": [
    "filepath=\"weights-best.hdf5\"\n",
    "checkpoint = ModelCheckpoint(filepath, monitor='accuracy', verbose=1, save_best_only=True, mode='max')"
   ]
  },
  {
   "cell_type": "code",
   "execution_count": 0,
   "metadata": {
    "colab": {
     "base_uri": "https://localhost:8080/",
     "height": 888
    },
    "colab_type": "code",
    "id": "mSkGed1YuNhP",
    "outputId": "bf8d1002-f79e-4ee8-c113-9a8d34ce9575"
   },
   "outputs": [
    {
     "name": "stdout",
     "output_type": "stream",
     "text": [
      "WARNING:tensorflow:From /usr/local/lib/python3.6/dist-packages/tensorflow_core/python/ops/math_grad.py:1424: where (from tensorflow.python.ops.array_ops) is deprecated and will be removed in a future version.\n",
      "Instructions for updating:\n",
      "Use tf.where in 2.0, which has the same broadcast rule as np.where\n",
      "WARNING:tensorflow:From /usr/local/lib/python3.6/dist-packages/keras/backend/tensorflow_backend.py:1033: The name tf.assign_add is deprecated. Please use tf.compat.v1.assign_add instead.\n",
      "\n",
      "WARNING:tensorflow:From /usr/local/lib/python3.6/dist-packages/keras/backend/tensorflow_backend.py:1020: The name tf.assign is deprecated. Please use tf.compat.v1.assign instead.\n",
      "\n",
      "Epoch 1/20\n",
      "9/9 [==============================] - 258s 29s/step - loss: 1.7430 - acc: 0.3324 - val_loss: 1.4126 - val_acc: 0.2958\n",
      "Epoch 2/20\n"
     ]
    },
    {
     "name": "stderr",
     "output_type": "stream",
     "text": [
      "/usr/local/lib/python3.6/dist-packages/keras/callbacks.py:707: RuntimeWarning: Can save best model only with accuracy available, skipping.\n",
      "  'skipping.' % (self.monitor), RuntimeWarning)\n"
     ]
    },
    {
     "name": "stdout",
     "output_type": "stream",
     "text": [
      "9/9 [==============================] - 269s 30s/step - loss: 1.0406 - acc: 0.5729 - val_loss: 0.9313 - val_acc: 0.5775\n",
      "Epoch 3/20\n",
      "9/9 [==============================] - 240s 27s/step - loss: 0.7093 - acc: 0.7536 - val_loss: 0.7091 - val_acc: 0.7418\n",
      "Epoch 4/20\n",
      "9/9 [==============================] - 257s 29s/step - loss: 0.5347 - acc: 0.8307 - val_loss: 0.8821 - val_acc: 0.6150\n",
      "Epoch 5/20\n",
      "9/9 [==============================] - 257s 29s/step - loss: 0.5032 - acc: 0.8315 - val_loss: 0.6234 - val_acc: 0.7183\n",
      "Epoch 6/20\n",
      "9/9 [==============================] - 271s 30s/step - loss: 0.3936 - acc: 0.8785 - val_loss: 0.5793 - val_acc: 0.7559\n",
      "Epoch 7/20\n",
      "9/9 [==============================] - 243s 27s/step - loss: 0.3092 - acc: 0.9218 - val_loss: 0.6161 - val_acc: 0.7746\n",
      "Epoch 8/20\n",
      "9/9 [==============================] - 271s 30s/step - loss: 0.2927 - acc: 0.9097 - val_loss: 0.4265 - val_acc: 0.8216\n",
      "Epoch 9/20\n",
      "9/9 [==============================] - 243s 27s/step - loss: 0.3475 - acc: 0.8709 - val_loss: 0.5179 - val_acc: 0.7746\n",
      "Epoch 10/20\n",
      "9/9 [==============================] - 272s 30s/step - loss: 0.2897 - acc: 0.9097 - val_loss: 0.3886 - val_acc: 0.8826\n",
      "Epoch 11/20\n",
      "9/9 [==============================] - 250s 28s/step - loss: 0.2087 - acc: 0.9614 - val_loss: 0.4922 - val_acc: 0.7840\n",
      "Epoch 12/20\n",
      "9/9 [==============================] - 256s 28s/step - loss: 0.1510 - acc: 0.9789 - val_loss: 0.3422 - val_acc: 0.8732\n",
      "Epoch 13/20\n",
      "9/9 [==============================] - 271s 30s/step - loss: 0.1748 - acc: 0.9653 - val_loss: 0.3012 - val_acc: 0.8920\n",
      "Epoch 14/20\n",
      "9/9 [==============================] - 242s 27s/step - loss: 0.1385 - acc: 0.9573 - val_loss: 0.4545 - val_acc: 0.8216\n",
      "Epoch 15/20\n",
      "9/9 [==============================] - 256s 28s/step - loss: 0.1549 - acc: 0.9509 - val_loss: 0.2359 - val_acc: 0.9249\n",
      "Epoch 16/20\n",
      "9/9 [==============================] - 271s 30s/step - loss: 0.1521 - acc: 0.9514 - val_loss: 0.3015 - val_acc: 0.8920\n",
      "Epoch 17/20\n",
      "9/9 [==============================] - 243s 27s/step - loss: 0.0955 - acc: 0.9822 - val_loss: 0.3408 - val_acc: 0.8545\n",
      "Epoch 18/20\n",
      "9/9 [==============================] - 270s 30s/step - loss: 0.1103 - acc: 0.9757 - val_loss: 0.2531 - val_acc: 0.8920\n",
      "Epoch 19/20\n",
      "9/9 [==============================] - 256s 28s/step - loss: 0.1083 - acc: 0.9789 - val_loss: 0.2885 - val_acc: 0.9014\n",
      "Epoch 20/20\n",
      "9/9 [==============================] - 257s 29s/step - loss: 0.0895 - acc: 0.9895 - val_loss: 0.2249 - val_acc: 0.9155\n"
     ]
    }
   ],
   "source": [
    "history = model.fit_generator(\n",
    "    train_generator,\n",
    "    steps_per_epoch=len(train_generator.filenames) // BATCH_SIZE,\n",
    "    epochs=20,\n",
    "    validation_data=validation_generator,\n",
    "    validation_steps=len(train_generator.filenames) // BATCH_SIZE,\n",
    "    callbacks=[checkpoint],\n",
    "    use_multiprocessing = True,workers=16\n",
    ")"
   ]
  },
  {
   "cell_type": "code",
   "execution_count": 0,
   "metadata": {
    "colab": {},
    "colab_type": "code",
    "id": "49P6-64MED_5"
   },
   "outputs": [],
   "source": [
    "model.save(\"modal.hdf5\")"
   ]
  },
  {
   "cell_type": "code",
   "execution_count": 0,
   "metadata": {
    "colab": {},
    "colab_type": "code",
    "id": "tywu9vTZLtyW"
   },
   "outputs": [],
   "source": [
    "import pickle"
   ]
  },
  {
   "cell_type": "code",
   "execution_count": 0,
   "metadata": {
    "colab": {},
    "colab_type": "code",
    "id": "H5M-sfx0MMus"
   },
   "outputs": [],
   "source": [
    "f = open(\"graph_data.pkl\",'wb')\n",
    "pickle.dump(history.history,f)"
   ]
  },
  {
   "cell_type": "code",
   "execution_count": 0,
   "metadata": {
    "colab": {},
    "colab_type": "code",
    "id": "KiaG1stdMoxC"
   },
   "outputs": [],
   "source": [
    "f = open(\"label.pkl\",'wb')\n",
    "pickle.dump(train_generator.class_indices,f)"
   ]
  },
  {
   "cell_type": "code",
   "execution_count": 0,
   "metadata": {
    "colab": {
     "base_uri": "https://localhost:8080/",
     "height": 590
    },
    "colab_type": "code",
    "id": "gr4gs2GhEaEe",
    "outputId": "a178d6df-75ee-4f5d-e396-d459fd672b5f"
   },
   "outputs": [
    {
     "name": "stdout",
     "output_type": "stream",
     "text": [
      "dict_keys(['val_loss', 'val_acc', 'loss', 'acc'])\n"
     ]
    },
    {
     "data": {
      "image/png": "[encoded data removed]",
      "text/plain": [
       "<Figure size 432x288 with 1 Axes>"
      ]
     },
     "metadata": {
      "tags": []
     },
     "output_type": "display_data"
    },
    {
     "data": {
      "image/png": "[encoded data removed]",
      "text/plain": [
       "<Figure size 432x288 with 1 Axes>"
      ]
     },
     "metadata": {
      "tags": []
     },
     "output_type": "display_data"
    }
   ],
   "source": [
    "print(history.history.keys())\n",
    "from matplotlib import pyplot as plt\n",
    "plt.plot(history.history['acc'])\n",
    "plt.plot(history.history['val_acc'])\n",
    "plt.title('model accuracy')\n",
    "plt.ylabel('accuracy')\n",
    "plt.xlabel('epoch')\n",
    "plt.legend(['train', 'test'], loc='upper left')\n",
    "plt.show()\n",
    "# summarize history for loss\n",
    "plt.plot(history.history['loss'])\n",
    "plt.plot(history.history['val_loss'])\n",
    "plt.title('model loss')\n",
    "plt.ylabel('loss')\n",
    "plt.xlabel('epoch')\n",
    "plt.legend(['train', 'test'], loc='upper left')\n",
    "plt.show()"
   ]
  },
  {
   "cell_type": "code",
   "execution_count": 0,
   "metadata": {
    "colab": {},
    "colab_type": "code",
    "id": "tZixt50CM6vr"
   },
   "outputs": [],
   "source": [
    "!cp modal.hdf5 ./drive/My\\ Drive/Project\\ Shit"
   ]
  },
  {
   "cell_type": "code",
   "execution_count": 0,
   "metadata": {
    "colab": {},
    "colab_type": "code",
    "id": "zUA2DsrsNMhM"
   },
   "outputs": [],
   "source": []
  }
 ],
 "metadata": {
  "accelerator": "TPU",
  "colab": {
   "collapsed_sections": [],
   "name": "TrainCNN.ipynb",
   "provenance": []
  },
  "kernelspec": {
   "display_name": "Python 3",
   "language": "python",
   "name": "python3"
  },
  "language_info": {
   "codemirror_mode": {
    "name": "ipython",
    "version": 3
   },
   "file_extension": ".py",
   "mimetype": "text/x-python",
   "name": "python",
   "nbconvert_exporter": "python",
   "pygments_lexer": "ipython3",
   "version": "3.7.4"
  }
 },
 "nbformat": 4,
 "nbformat_minor": 1
}
