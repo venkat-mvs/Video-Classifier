{
 "cells": [
  {
   "cell_type": "code",
   "execution_count": 0,
   "metadata": {
    "colab": {},
    "colab_type": "code",
    "id": "94ocPw6r9xk2"
   },
   "outputs": [],
   "source": [
    "!cp drive/My\\ Drive/Colab\\ Notebooks/video_data_4_classes.zip ./data/"
   ]
  },
  {
   "cell_type": "code",
   "execution_count": 0,
   "metadata": {
    "colab": {
     "base_uri": "https://localhost:8080/",
     "height": 746
    },
    "colab_type": "code",
    "id": "OGRxGdTb-WnD",
    "outputId": "c59e9698-87c8-46cc-c0f7-22a7fcfa3765"
   },
   "outputs": [
    {
     "name": "stdout",
     "output_type": "stream",
     "text": [
      "Archive:  ./data/video_data_4_classes.zip\n",
      "   creating: ./data/new data/\n",
      "   creating: ./data/new data/SkateBoarding/\n",
      "  inflating: ./data/new data/SkateBoarding/708-75070.avi  \n",
      "  inflating: ./data/new data/SkateBoarding/711-66044.avi  \n",
      "  inflating: ./data/new data/SkateBoarding/708-77009.avi  \n",
      "  inflating: ./data/new data/SkateBoarding/1058-22003.avi  \n",
      "  inflating: ./data/new data/SkateBoarding/761-39000.avi  \n",
      "  inflating: ./data/new data/SkateBoarding/947-58108.avi  \n",
      "  inflating: ./data/new data/SkateBoarding/860-37150.avi  \n",
      "  inflating: ./data/new data/SkateBoarding/947-70005.avi  \n",
      "  inflating: ./data/new data/SkateBoarding/860-2729.avi  \n",
      "   creating: ./data/new data/Running/\n",
      "  inflating: ./data/new data/Running/2670-5_70111.avi  \n",
      "  inflating: ./data/new data/Running/5238-17_701141.avi  \n",
      "  inflating: ./data/new data/Running/5238-17_700000.avi  \n",
      "  inflating: ./data/new data/Running/3687-17_70245.avi  \n",
      "  inflating: ./data/new data/Running/5117-8_70157.avi  \n",
      "  inflating: ./data/new data/Running/7850-5_70090.avi  \n",
      "  inflating: ./data/new data/Running/5238-17_701581.avi  \n",
      "  inflating: ./data/new data/Running/5238-17_700950.avi  \n",
      "  inflating: ./data/new data/Running/6065-8_70110.avi  \n",
      "   creating: ./data/new data/Golf Swinging/\n",
      "  inflating: ./data/new data/Golf Swinging/RF1-13588_70046.avi  \n",
      "  inflating: ./data/new data/Golf Swinging/3283-8_701201.avi  \n",
      "  inflating: ./data/new data/Golf Swinging/RF1-13678_70045.avi  \n",
      "  inflating: ./data/new data/Golf Swinging/RF1-13157_70040.avi  \n",
      "  inflating: ./data/new data/Golf Swinging/7603-4_70159.avi  \n",
      "  inflating: ./data/new data/Golf Swinging/RF1-13209_70050.avi  \n",
      "  inflating: ./data/new data/Golf Swinging/7608-12_70275.avi  \n",
      "  inflating: ./data/new data/Golf Swinging/7616-7_70270.avi  \n",
      "  inflating: ./data/new data/Golf Swinging/RF1-13428_70288.avi  \n",
      "   creating: ./data/new data/Riding Horse/\n",
      "  inflating: ./data/new data/Riding Horse/4456-16_700516.avi  \n",
      "  inflating: ./data/new data/Riding Horse/6326-9_70170.avi  \n",
      "  inflating: ./data/new data/Riding Horse/6029-1_70001.avi  \n",
      "  inflating: ./data/new data/Riding Horse/4456-16_700165.avi  \n",
      "  inflating: ./data/new data/Riding Horse/1098-6_70000.avi  \n",
      "  inflating: ./data/new data/Riding Horse/RF1-12001_70063.avi  \n",
      "  inflating: ./data/new data/Riding Horse/4456-16_700406.avi  \n",
      "  inflating: ./data/new data/Riding Horse/6029-1_70143.avi  \n",
      "  inflating: ./data/new data/Riding Horse/6018-29_70000.avi  \n"
     ]
    }
   ],
   "source": [
    "!unzip ./data/video_data_4_classes.zip -d ./data/"
   ]
  },
  {
   "cell_type": "code",
   "execution_count": 0,
   "metadata": {
    "colab": {},
    "colab_type": "code",
    "id": "x98vSdjVKhnW"
   },
   "outputs": [],
   "source": [
    "!cp drive/My\\ Drive/Colab\\ Notebooks/modal.hdf5 ."
   ]
  },
  {
   "cell_type": "code",
   "execution_count": 0,
   "metadata": {
    "colab": {},
    "colab_type": "code",
    "id": "W5o_VLx-IRVS"
   },
   "outputs": [],
   "source": [
    "import cv2"
   ]
  },
  {
   "cell_type": "code",
   "execution_count": 0,
   "metadata": {
    "colab": {},
    "colab_type": "code",
    "id": "P89ZZUqn3Emx"
   },
   "outputs": [],
   "source": [
    "N_FRAMES = 10"
   ]
  },
  {
   "cell_type": "code",
   "execution_count": 0,
   "metadata": {
    "colab": {
     "base_uri": "https://localhost:8080/",
     "height": 34
    },
    "colab_type": "code",
    "id": "2rwZBVNy6mc0",
    "outputId": "8cbc6d7c-3be2-4bcf-c7db-6d4588676542"
   },
   "outputs": [
    {
     "name": "stdout",
     "output_type": "stream",
     "text": [
      " .   ..  'Golf Swinging'  'Riding Horse'   Running   SkateBoarding\n"
     ]
    }
   ],
   "source": [
    "!ls -a ./data/video_data/ #rm -r ./data/video_data/.ipynb_checkpoints"
   ]
  },
  {
   "cell_type": "code",
   "execution_count": 0,
   "metadata": {
    "colab": {
     "base_uri": "https://localhost:8080/",
     "height": 98
    },
    "colab_type": "code",
    "id": "dTS3QI354zPM",
    "outputId": "e794dbd8-d200-46c5-cae1-d17d6fd8634a"
   },
   "outputs": [
    {
     "name": "stderr",
     "output_type": "stream",
     "text": [
      "Using TensorFlow backend.\n"
     ]
    },
    {
     "data": {
      "text/html": [
       "<p style=\"color: red;\">\n",
       "The default version of TensorFlow in Colab will soon switch to TensorFlow 2.x.<br>\n",
       "We recommend you <a href=\"https://www.tensorflow.org/guide/migrate\" target=\"_blank\">upgrade</a> now \n",
       "or ensure your notebook will continue to use TensorFlow 1.x via the <code>%tensorflow_version 1.x</code> magic:\n",
       "<a href=\"https://colab.research.google.com/notebooks/tensorflow_version.ipynb\" target=\"_blank\">more info</a>.</p>\n"
      ],
      "text/plain": [
       "<IPython.core.display.HTML object>"
      ]
     },
     "metadata": {
      "tags": []
     },
     "output_type": "display_data"
    }
   ],
   "source": [
    "from feature_extractor import FeatureExtractor"
   ]
  },
  {
   "cell_type": "code",
   "execution_count": 0,
   "metadata": {
    "colab": {},
    "colab_type": "code",
    "id": "G7Nqgq8-25X3"
   },
   "outputs": [],
   "source": [
    "f = FeatureExtractor(N_FRAMES,'modal.hdf5')"
   ]
  },
  {
   "cell_type": "code",
   "execution_count": 0,
   "metadata": {
    "colab": {
     "base_uri": "https://localhost:8080/",
     "height": 260
    },
    "colab_type": "code",
    "id": "GA5U-edKdczM",
    "outputId": "588151ec-d8e9-4159-ba49-7060e314c0bc"
   },
   "outputs": [
    {
     "name": "stdout",
     "output_type": "stream",
     "text": [
      "Model: \"model_1\"\n",
      "_________________________________________________________________\n",
      "Layer (type)                 Output Shape              Param #   \n",
      "=================================================================\n",
      "vgg16_input (InputLayer)     (None, 224, 224, 3)       0         \n",
      "_________________________________________________________________\n",
      "vgg16 (Model)                (None, 7, 7, 512)         14714688  \n",
      "_________________________________________________________________\n",
      "max_pooling2d_2 (MaxPooling2 (None, 1, 1, 512)         0         \n",
      "=================================================================\n",
      "Total params: 14,714,688\n",
      "Trainable params: 14,714,688\n",
      "Non-trainable params: 0\n",
      "_________________________________________________________________\n"
     ]
    }
   ],
   "source": [
    "f.model.summary()"
   ]
  },
  {
   "cell_type": "code",
   "execution_count": 0,
   "metadata": {
    "colab": {
     "base_uri": "https://localhost:8080/",
     "height": 712
    },
    "colab_type": "code",
    "id": "xvWySp0J3Lis",
    "outputId": "4bfaf434-93f8-4368-e832-1099c2c36107"
   },
   "outputs": [
    {
     "name": "stdout",
     "output_type": "stream",
     "text": [
      "[INFO] ./data/video_data/Golf Swinging/7616-7_70270.avi completed\n",
      "[INFO] ./data/video_data/Golf Swinging/RF1-13678_70045.avi completed\n",
      "[INFO] ./data/video_data/Golf Swinging/RF1-13209_70050.avi completed\n",
      "[INFO] ./data/video_data/Golf Swinging/RF1-13588_70046.avi completed\n",
      "[INFO] ./data/video_data/Golf Swinging/RF1-13428_70288.avi completed\n",
      "[INFO] ./data/video_data/Golf Swinging/3283-8_701201.avi completed\n",
      "[INFO] ./data/video_data/Golf Swinging/7603-4_70159.avi completed\n",
      "[INFO] ./data/video_data/Golf Swinging/7608-12_70275.avi completed\n",
      "[INFO] ./data/video_data/Golf Swinging/RF1-13157_70040.avi completed\n",
      "[INFO] ./data/video_data/Golf Swinging completed\n",
      "[INFO] ./data/video_data/SkateBoarding/947-70005.avi completed\n",
      "[INFO] ./data/video_data/SkateBoarding/1058-22003.avi completed\n",
      "[INFO] ./data/video_data/SkateBoarding/860-37150.avi completed\n",
      "[INFO] ./data/video_data/SkateBoarding/711-66044.avi completed\n",
      "[INFO] ./data/video_data/SkateBoarding/708-77009.avi completed\n",
      "[INFO] ./data/video_data/SkateBoarding/761-39000.avi completed\n",
      "[INFO] ./data/video_data/SkateBoarding/708-75070.avi completed\n",
      "[INFO] ./data/video_data/SkateBoarding/860-2729.avi completed\n",
      "[INFO] ./data/video_data/SkateBoarding/947-58108.avi completed\n",
      "[INFO] ./data/video_data/SkateBoarding completed\n",
      "[INFO] ./data/video_data/Running/5117-8_70157.avi completed\n",
      "[INFO] ./data/video_data/Running/5238-17_701581.avi completed\n",
      "[INFO] ./data/video_data/Running/5238-17_700000.avi completed\n",
      "[INFO] ./data/video_data/Running/6065-8_70110.avi completed\n",
      "[INFO] ./data/video_data/Running/5238-17_701141.avi completed\n",
      "[INFO] ./data/video_data/Running/2670-5_70111.avi completed\n",
      "[INFO] ./data/video_data/Running/7850-5_70090.avi completed\n",
      "[INFO] ./data/video_data/Running/5238-17_700950.avi completed\n",
      "[INFO] ./data/video_data/Running/3687-17_70245.avi completed\n",
      "[INFO] ./data/video_data/Running completed\n",
      "[INFO] ./data/video_data/Riding Horse/6018-29_70000.avi completed\n",
      "[INFO] ./data/video_data/Riding Horse/4456-16_700165.avi completed\n",
      "[INFO] ./data/video_data/Riding Horse/6029-1_70001.avi completed\n",
      "[INFO] ./data/video_data/Riding Horse/6029-1_70143.avi completed\n",
      "[INFO] ./data/video_data/Riding Horse/4456-16_700516.avi completed\n",
      "[INFO] ./data/video_data/Riding Horse/4456-16_700406.avi completed\n",
      "[INFO] ./data/video_data/Riding Horse/RF1-12001_70063.avi completed\n",
      "[INFO] ./data/video_data/Riding Horse/1098-6_70000.avi completed\n",
      "[INFO] ./data/video_data/Riding Horse/6326-9_70170.avi completed\n",
      "[INFO] ./data/video_data/Riding Horse completed\n"
     ]
    }
   ],
   "source": [
    "f.load_from_directory('./data/video_data')"
   ]
  },
  {
   "cell_type": "code",
   "execution_count": 0,
   "metadata": {
    "colab": {},
    "colab_type": "code",
    "id": "avUlXJlc6c91"
   },
   "outputs": [],
   "source": [
    "X, y = f.load_dataset()"
   ]
  },
  {
   "cell_type": "code",
   "execution_count": 0,
   "metadata": {
    "colab": {},
    "colab_type": "code",
    "id": "cvVPTBKx5ghX"
   },
   "outputs": [],
   "source": [
    "!cp drive/My\\ Drive/Colab\\ Notebooks/features_file.zip ."
   ]
  },
  {
   "cell_type": "code",
   "execution_count": 0,
   "metadata": {
    "colab": {
     "base_uri": "https://localhost:8080/",
     "height": 69
    },
    "colab_type": "code",
    "id": "WXxATGHj527z",
    "outputId": "eaefdb8c-f455-40a6-f337-c21762e5bd41"
   },
   "outputs": [
    {
     "name": "stdout",
     "output_type": "stream",
     "text": [
      "Archive:  features_file.zip\n",
      "  inflating: lstm_y.npy              \n",
      "  inflating: lstm_x.npy              \n"
     ]
    }
   ],
   "source": [
    "!unzip features_file.zip"
   ]
  },
  {
   "cell_type": "code",
   "execution_count": 0,
   "metadata": {
    "colab": {},
    "colab_type": "code",
    "id": "wG5fJiS66Hjz"
   },
   "outputs": [],
   "source": [
    "import numpy as np"
   ]
  },
  {
   "cell_type": "code",
   "execution_count": 0,
   "metadata": {
    "colab": {},
    "colab_type": "code",
    "id": "PM5byB1X6Lno"
   },
   "outputs": [],
   "source": [
    "X, y = np.load('lstm_x.npy'),np.load('lstm_y.npy')"
   ]
  },
  {
   "cell_type": "code",
   "execution_count": 0,
   "metadata": {
    "colab": {
     "base_uri": "https://localhost:8080/",
     "height": 34
    },
    "colab_type": "code",
    "id": "SySYsIUxEqp-",
    "outputId": "061b1629-4c91-437f-e791-9d3dda569ff0"
   },
   "outputs": [
    {
     "data": {
      "text/plain": [
       "960"
      ]
     },
     "execution_count": 6,
     "metadata": {
      "tags": []
     },
     "output_type": "execute_result"
    }
   ],
   "source": [
    "len(X)"
   ]
  },
  {
   "cell_type": "code",
   "execution_count": 0,
   "metadata": {
    "colab": {
     "base_uri": "https://localhost:8080/",
     "height": 34
    },
    "colab_type": "code",
    "id": "MGf5zgpjEtOo",
    "outputId": "14d38266-5d24-453e-a5d2-24da5f56f985"
   },
   "outputs": [
    {
     "data": {
      "text/plain": [
       "960"
      ]
     },
     "execution_count": 9,
     "metadata": {
      "tags": []
     },
     "output_type": "execute_result"
    }
   ],
   "source": [
    "len(y)"
   ]
  },
  {
   "cell_type": "code",
   "execution_count": 0,
   "metadata": {
    "colab": {
     "base_uri": "https://localhost:8080/",
     "height": 34
    },
    "colab_type": "code",
    "id": "p3551TJIEvXT",
    "outputId": "83346319-7ab0-4e30-e20f-6ad1973230e7"
   },
   "outputs": [
    {
     "data": {
      "text/plain": [
       "(10, 512)"
      ]
     },
     "execution_count": 10,
     "metadata": {
      "tags": []
     },
     "output_type": "execute_result"
    }
   ],
   "source": [
    "X[0].shape\n"
   ]
  },
  {
   "cell_type": "code",
   "execution_count": 0,
   "metadata": {
    "colab": {
     "base_uri": "https://localhost:8080/",
     "height": 1000
    },
    "colab_type": "code",
    "id": "AyLWDxdujfSK",
    "outputId": "a4f61560-1c9e-43f1-93f3-43aa5849b0fa"
   },
   "outputs": [
    {
     "data": {
      "text/plain": [
       "array([[[ 0.        ,  0.        ,  5.2694244 , ..., 25.1015    ,\n",
       "         10.996999  , 16.858883  ],\n",
       "        [ 0.        ,  0.        ,  1.2669399 , ..., 25.13636   ,\n",
       "          8.402225  , 16.30759   ],\n",
       "        [ 0.        ,  0.        ,  4.1593122 , ..., 24.067205  ,\n",
       "         11.625109  , 18.555912  ],\n",
       "        ...,\n",
       "        [ 0.        ,  0.        ,  7.884647  , ..., 25.015656  ,\n",
       "         10.686768  ,  8.5287695 ],\n",
       "        [ 0.        ,  0.        ,  9.419984  , ..., 27.556696  ,\n",
       "         10.127349  ,  3.7726932 ],\n",
       "        [ 0.        ,  0.        ,  9.392706  , ..., 33.99073   ,\n",
       "          9.83689   ,  6.58963   ]],\n",
       "\n",
       "       [[ 0.        ,  0.        ,  1.2669399 , ..., 25.13636   ,\n",
       "          8.402225  , 16.30759   ],\n",
       "        [ 0.        ,  0.        ,  4.1593122 , ..., 24.067205  ,\n",
       "         11.625109  , 18.555912  ],\n",
       "        [ 0.        ,  0.        ,  1.8632114 , ..., 27.827427  ,\n",
       "         14.60748   , 13.117829  ],\n",
       "        ...,\n",
       "        [ 0.        ,  0.        ,  9.419984  , ..., 27.556696  ,\n",
       "         10.127349  ,  3.7726932 ],\n",
       "        [ 0.        ,  0.        ,  9.392706  , ..., 33.99073   ,\n",
       "          9.83689   ,  6.58963   ],\n",
       "        [ 0.        ,  0.        , 10.293567  , ..., 28.968855  ,\n",
       "          6.2159915 , 16.425707  ]],\n",
       "\n",
       "       [[ 0.        ,  0.        ,  4.1593122 , ..., 24.067205  ,\n",
       "         11.625109  , 18.555912  ],\n",
       "        [ 0.        ,  0.        ,  1.8632114 , ..., 27.827427  ,\n",
       "         14.60748   , 13.117829  ],\n",
       "        [ 0.        ,  0.        ,  4.999444  , ..., 26.595877  ,\n",
       "         12.541948  , 11.865939  ],\n",
       "        ...,\n",
       "        [ 0.        ,  0.        ,  9.392706  , ..., 33.99073   ,\n",
       "          9.83689   ,  6.58963   ],\n",
       "        [ 0.        ,  0.        , 10.293567  , ..., 28.968855  ,\n",
       "          6.2159915 , 16.425707  ],\n",
       "        [ 0.        ,  0.        ,  8.629163  , ..., 34.784042  ,\n",
       "          9.310191  , 21.403585  ]],\n",
       "\n",
       "       ...,\n",
       "\n",
       "       [[ 1.327218  , 16.59576   , 21.386198  , ...,  5.931499  ,\n",
       "          8.48775   , 23.2481    ],\n",
       "        [19.031425  , 21.898058  , 39.95686   , ...,  4.649893  ,\n",
       "         22.440517  , 20.881538  ],\n",
       "        [ 5.008955  , 25.7506    , 18.66209   , ..., 17.477644  ,\n",
       "         18.623747  , 21.487545  ],\n",
       "        ...,\n",
       "        [ 1.585109  ,  7.3705945 , 16.348343  , ..., 22.530987  ,\n",
       "          0.        , 29.80238   ],\n",
       "        [ 9.396842  , 22.823242  , 19.277138  , ..., 25.621729  ,\n",
       "          0.19884652, 28.967978  ],\n",
       "        [ 7.180953  ,  4.256598  , 15.4214    , ..., 32.53768   ,\n",
       "          6.102234  , 30.542633  ]],\n",
       "\n",
       "       [[19.031425  , 21.898058  , 39.95686   , ...,  4.649893  ,\n",
       "         22.440517  , 20.881538  ],\n",
       "        [ 5.008955  , 25.7506    , 18.66209   , ..., 17.477644  ,\n",
       "         18.623747  , 21.487545  ],\n",
       "        [11.524839  , 25.056316  , 35.309387  , ..., 10.697309  ,\n",
       "          8.907891  , 17.92809   ],\n",
       "        ...,\n",
       "        [ 9.396842  , 22.823242  , 19.277138  , ..., 25.621729  ,\n",
       "          0.19884652, 28.967978  ],\n",
       "        [ 7.180953  ,  4.256598  , 15.4214    , ..., 32.53768   ,\n",
       "          6.102234  , 30.542633  ],\n",
       "        [21.244707  ,  8.215365  , 15.6519575 , ..., 25.329317  ,\n",
       "          6.8757267 , 17.667704  ]],\n",
       "\n",
       "       [[ 5.008955  , 25.7506    , 18.66209   , ..., 17.477644  ,\n",
       "         18.623747  , 21.487545  ],\n",
       "        [11.524839  , 25.056316  , 35.309387  , ..., 10.697309  ,\n",
       "          8.907891  , 17.92809   ],\n",
       "        [ 4.9574385 , 10.299874  , 23.785225  , ...,  9.552962  ,\n",
       "          3.5020144 , 15.639685  ],\n",
       "        ...,\n",
       "        [ 7.180953  ,  4.256598  , 15.4214    , ..., 32.53768   ,\n",
       "          6.102234  , 30.542633  ],\n",
       "        [21.244707  ,  8.215365  , 15.6519575 , ..., 25.329317  ,\n",
       "          6.8757267 , 17.667704  ],\n",
       "        [ 4.6239567 , 17.900934  , 32.93484   , ..., 40.062782  ,\n",
       "          5.078345  , 15.820355  ]]], dtype=float32)"
      ]
     },
     "execution_count": 12,
     "metadata": {
      "tags": []
     },
     "output_type": "execute_result"
    }
   ],
   "source": [
    "X"
   ]
  },
  {
   "cell_type": "code",
   "execution_count": 0,
   "metadata": {
    "colab": {
     "base_uri": "https://localhost:8080/",
     "height": 34
    },
    "colab_type": "code",
    "id": "3Q9DRmsiEyFG",
    "outputId": "64079d03-b776-4110-956f-803a3efb2b3f"
   },
   "outputs": [
    {
     "data": {
      "text/plain": [
       "4"
      ]
     },
     "execution_count": 11,
     "metadata": {
      "tags": []
     },
     "output_type": "execute_result"
    }
   ],
   "source": [
    "len(y[0])"
   ]
  },
  {
   "cell_type": "code",
   "execution_count": 0,
   "metadata": {
    "colab": {
     "base_uri": "https://localhost:8080/",
     "height": 139
    },
    "colab_type": "code",
    "id": "mirG01l-jjQ5",
    "outputId": "fbe99697-4208-4c09-d37d-9f496be6f79f"
   },
   "outputs": [
    {
     "data": {
      "text/plain": [
       "array([[1., 0., 0., 0.],\n",
       "       [1., 0., 0., 0.],\n",
       "       [1., 0., 0., 0.],\n",
       "       ...,\n",
       "       [0., 1., 0., 0.],\n",
       "       [0., 1., 0., 0.],\n",
       "       [0., 1., 0., 0.]])"
      ]
     },
     "execution_count": 13,
     "metadata": {
      "tags": []
     },
     "output_type": "execute_result"
    }
   ],
   "source": [
    "y"
   ]
  },
  {
   "cell_type": "code",
   "execution_count": 0,
   "metadata": {
    "colab": {},
    "colab_type": "code",
    "id": "g0HxSGH-4W17"
   },
   "outputs": [],
   "source": [
    "from sklearn.preprocessing import OneHotEncoder"
   ]
  },
  {
   "cell_type": "code",
   "execution_count": 0,
   "metadata": {
    "colab": {},
    "colab_type": "code",
    "id": "H8FSxvJx5TuA"
   },
   "outputs": [],
   "source": [
    "encoder = OneHotEncoder(sparse=False)"
   ]
  },
  {
   "cell_type": "code",
   "execution_count": 0,
   "metadata": {
    "colab": {},
    "colab_type": "code",
    "id": "4pAvjQ39vr1X"
   },
   "outputs": [],
   "source": [
    "X,y = np.array(X),np.array(y)"
   ]
  },
  {
   "cell_type": "code",
   "execution_count": 0,
   "metadata": {
    "colab": {},
    "colab_type": "code",
    "id": "ma31hmyH7LPC"
   },
   "outputs": [],
   "source": [
    "y = y.reshape(len(y), 1)"
   ]
  },
  {
   "cell_type": "code",
   "execution_count": 0,
   "metadata": {
    "colab": {},
    "colab_type": "code",
    "id": "KobLqyhf7b4b"
   },
   "outputs": [],
   "source": [
    "y = encoder.fit_transform(y)"
   ]
  },
  {
   "cell_type": "code",
   "execution_count": 0,
   "metadata": {
    "colab": {
     "base_uri": "https://localhost:8080/",
     "height": 139
    },
    "colab_type": "code",
    "id": "2If23kIP7r6D",
    "outputId": "fd3ddf25-22d1-497e-e4aa-0d994db39e6e"
   },
   "outputs": [
    {
     "data": {
      "text/plain": [
       "array([[1., 0., 0., 0.],\n",
       "       [1., 0., 0., 0.],\n",
       "       [1., 0., 0., 0.],\n",
       "       ...,\n",
       "       [0., 1., 0., 0.],\n",
       "       [0., 1., 0., 0.],\n",
       "       [0., 1., 0., 0.]])"
      ]
     },
     "execution_count": 74,
     "metadata": {
      "tags": []
     },
     "output_type": "execute_result"
    }
   ],
   "source": [
    "y"
   ]
  },
  {
   "cell_type": "code",
   "execution_count": 0,
   "metadata": {
    "colab": {},
    "colab_type": "code",
    "id": "TDwX7ZW0E0fD"
   },
   "outputs": [],
   "source": [
    "import numpy as np"
   ]
  },
  {
   "cell_type": "code",
   "execution_count": 0,
   "metadata": {
    "colab": {},
    "colab_type": "code",
    "id": "gJzCFCDkE4sg"
   },
   "outputs": [],
   "source": [
    "np.save(\"features/lstm_x.npy\",X)"
   ]
  },
  {
   "cell_type": "code",
   "execution_count": 0,
   "metadata": {
    "colab": {},
    "colab_type": "code",
    "id": "uGbZC2BuFD8x"
   },
   "outputs": [],
   "source": [
    "np.save(\"features/lstm_y.npy\",y)"
   ]
  },
  {
   "cell_type": "code",
   "execution_count": 0,
   "metadata": {
    "colab": {},
    "colab_type": "code",
    "id": "kiHC58KOFJCK"
   },
   "outputs": [],
   "source": [
    "import shutil"
   ]
  },
  {
   "cell_type": "code",
   "execution_count": 0,
   "metadata": {
    "colab": {
     "base_uri": "https://localhost:8080/",
     "height": 34
    },
    "colab_type": "code",
    "id": "aM01q2ZZFV7K",
    "outputId": "69fd2c6e-f565-4f0d-a178-7114da9d9ac1"
   },
   "outputs": [
    {
     "data": {
      "text/plain": [
       "'/content/features_file.zip'"
      ]
     },
     "execution_count": 78,
     "metadata": {
      "tags": []
     },
     "output_type": "execute_result"
    }
   ],
   "source": [
    "shutil.make_archive(\"features_file\",'zip','features')"
   ]
  },
  {
   "cell_type": "code",
   "execution_count": 0,
   "metadata": {
    "colab": {},
    "colab_type": "code",
    "id": "Lj62BewAGDd-"
   },
   "outputs": [],
   "source": [
    "!cp features_file.zip drive/My\\ Drive/Colab\\ Notebooks"
   ]
  },
  {
   "cell_type": "code",
   "execution_count": 0,
   "metadata": {
    "colab": {},
    "colab_type": "code",
    "id": "PnB_MtEFGZ9O"
   },
   "outputs": [],
   "source": [
    "from sklearn.model_selection import train_test_split"
   ]
  },
  {
   "cell_type": "code",
   "execution_count": 0,
   "metadata": {
    "colab": {},
    "colab_type": "code",
    "id": "RS0tZQihKaQh"
   },
   "outputs": [],
   "source": [
    "f.actual.classes_"
   ]
  },
  {
   "cell_type": "code",
   "execution_count": 0,
   "metadata": {
    "colab": {},
    "colab_type": "code",
    "id": "u7K0CCeXHlPb"
   },
   "outputs": [],
   "source": [
    "X_train, X_test, y_train, y_test = train_test_split(X, y, test_size=0.33, random_state=42)"
   ]
  },
  {
   "cell_type": "code",
   "execution_count": 0,
   "metadata": {
    "colab": {
     "base_uri": "https://localhost:8080/",
     "height": 98
    },
    "colab_type": "code",
    "id": "3PEmwBkVHxM-",
    "outputId": "d12cdc22-b8a9-4255-a51f-637ac162a5f7"
   },
   "outputs": [
    {
     "name": "stderr",
     "output_type": "stream",
     "text": [
      "Using TensorFlow backend.\n"
     ]
    },
    {
     "data": {
      "text/html": [
       "<p style=\"color: red;\">\n",
       "The default version of TensorFlow in Colab will soon switch to TensorFlow 2.x.<br>\n",
       "We recommend you <a href=\"https://www.tensorflow.org/guide/migrate\" target=\"_blank\">upgrade</a> now \n",
       "or ensure your notebook will continue to use TensorFlow 1.x via the <code>%tensorflow_version 1.x</code> magic:\n",
       "<a href=\"https://colab.research.google.com/notebooks/tensorflow_version.ipynb\" target=\"_blank\">more info</a>.</p>\n"
      ],
      "text/plain": [
       "<IPython.core.display.HTML object>"
      ]
     },
     "metadata": {
      "tags": []
     },
     "output_type": "display_data"
    }
   ],
   "source": [
    "from keras.layers import Bidirectional,LSTM,Dense,Dropout,Input\n",
    "from keras.models import Sequential"
   ]
  },
  {
   "cell_type": "code",
   "execution_count": 0,
   "metadata": {
    "colab": {},
    "colab_type": "code",
    "id": "xAxax07cIKWj"
   },
   "outputs": [],
   "source": [
    "model = Sequential()\n",
    "model.add(Bidirectional(LSTM(2048, return_sequences=False,\n",
    "                input_shape=X_train.shape[1:],#(N_FRAMES,512),\n",
    "                dropout=0.5)))\n",
    "model.add(Dense(512, activation='relu'))\n",
    "model.add(Dropout(0.5))\n",
    "model.add(Dense(4, activation='softmax'))"
   ]
  },
  {
   "cell_type": "code",
   "execution_count": 0,
   "metadata": {
    "colab": {},
    "colab_type": "code",
    "id": "RcOzUqzZucJA"
   },
   "outputs": [],
   "source": [
    "#model.build(input_shape=X_train.shape)\n",
    "model.summary()"
   ]
  },
  {
   "cell_type": "code",
   "execution_count": 0,
   "metadata": {
    "colab": {},
    "colab_type": "code",
    "id": "zoNX7dHfIQGU"
   },
   "outputs": [],
   "source": [
    "model.compile(optimizer='adam',metrics=['accuracy'],loss=\"categorical_crossentropy\")"
   ]
  },
  {
   "cell_type": "code",
   "execution_count": 0,
   "metadata": {
    "colab": {},
    "colab_type": "code",
    "id": "2Go8yaqML31Q"
   },
   "outputs": [],
   "source": [
    "# from keras.callbacks import ModelCheckpoint\n",
    "# import os\n",
    "# checkpointer = ModelCheckpoint(\n",
    "#         filepath=os.path.join('checkpoints', 'lstmmodelbest-.{epoch:03d}-{accuracy:.3f}.hdf5'),\n",
    "#         verbose=1,monitor='accuracy',\n",
    "#         save_best_only=True)"
   ]
  },
  {
   "cell_type": "code",
   "execution_count": 0,
   "metadata": {
    "colab": {},
    "colab_type": "code",
    "id": "EuO5SHBsN34L"
   },
   "outputs": [],
   "source": [
    "model.summary()"
   ]
  },
  {
   "cell_type": "code",
   "execution_count": 0,
   "metadata": {
    "colab": {
     "base_uri": "https://localhost:8080/",
     "height": 228
    },
    "colab_type": "code",
    "id": "0uEkHf6bLcaZ",
    "outputId": "748c2260-68fa-4e28-85e1-8d4339608714"
   },
   "outputs": [
    {
     "name": "stdout",
     "output_type": "stream",
     "text": [
      "Train on 643 samples, validate on 317 samples\n",
      "Epoch 1/5\n",
      "643/643 [==============================] - 97s 150ms/step - loss: 0.5821 - acc: 0.7543 - val_loss: 0.0683 - val_acc: 0.9653\n",
      "Epoch 2/5\n",
      "643/643 [==============================] - 91s 142ms/step - loss: 0.1223 - acc: 0.9518 - val_loss: 0.1046 - val_acc: 0.9590\n",
      "Epoch 3/5\n",
      "643/643 [==============================] - 90s 141ms/step - loss: 0.0932 - acc: 0.9673 - val_loss: 0.0130 - val_acc: 1.0000\n",
      "Epoch 4/5\n",
      "643/643 [==============================] - 92s 143ms/step - loss: 0.0351 - acc: 0.9907 - val_loss: 0.0038 - val_acc: 1.0000\n",
      "Epoch 5/5\n",
      "643/643 [==============================] - 92s 143ms/step - loss: 0.0221 - acc: 0.9953 - val_loss: 1.2138e-04 - val_acc: 1.0000\n"
     ]
    }
   ],
   "source": [
    "history = model.fit(\n",
    "            X_train,\n",
    "            y_train,\n",
    "            validation_data=(X_test, y_test),\n",
    "            epochs=5)"
   ]
  },
  {
   "cell_type": "code",
   "execution_count": 0,
   "metadata": {
    "colab": {},
    "colab_type": "code",
    "id": "5lOAbhJwMw4S"
   },
   "outputs": [],
   "source": [
    "from matplotlib import pyplot as plt"
   ]
  },
  {
   "cell_type": "code",
   "execution_count": 0,
   "metadata": {
    "colab": {
     "base_uri": "https://localhost:8080/",
     "height": 590
    },
    "colab_type": "code",
    "id": "uGzC7ZtmAIMT",
    "outputId": "67e7f1d2-19f3-4ede-f0fc-fccc6e15fa08"
   },
   "outputs": [
    {
     "name": "stdout",
     "output_type": "stream",
     "text": [
      "dict_keys(['val_loss', 'val_acc', 'loss', 'acc'])\n"
     ]
    },
    {
     "data": {
      "image/png": "[encoded data removed]",
      "text/plain": [
       "<Figure size 432x288 with 1 Axes>"
      ]
     },
     "metadata": {
      "tags": []
     },
     "output_type": "display_data"
    },
    {
     "data": {
      "image/png": "[encoded data removed]",
      "text/plain": [
       "<Figure size 432x288 with 1 Axes>"
      ]
     },
     "metadata": {
      "tags": []
     },
     "output_type": "display_data"
    }
   ],
   "source": [
    "print(history.history.keys())\n",
    "from matplotlib import pyplot as plt\n",
    "plt.plot(history.history['acc'])\n",
    "plt.plot(history.history['val_acc'])\n",
    "plt.title('model accuracy')\n",
    "plt.ylabel('accuracy')\n",
    "plt.xlabel('epoch')\n",
    "plt.legend(['train', 'test'])#, loc='upper left')\n",
    "plt.show()\n",
    "# summarize history for loss\n",
    "plt.plot(history.history['loss'])\n",
    "plt.plot(history.history['val_loss'])\n",
    "plt.title('model loss')\n",
    "plt.ylabel('loss')\n",
    "plt.xlabel('epoch')\n",
    "plt.legend(['train', 'test'])#, loc='upper left')\n",
    "plt.show()"
   ]
  },
  {
   "cell_type": "code",
   "execution_count": 0,
   "metadata": {
    "colab": {
     "base_uri": "https://localhost:8080/",
     "height": 295
    },
    "colab_type": "code",
    "id": "5mMUVXslAJRP",
    "outputId": "2f33d9c5-c935-41ee-e4a1-0c5d02925b54"
   },
   "outputs": [
    {
     "name": "stdout",
     "output_type": "stream",
     "text": [
      "Model: \"sequential_6\"\n",
      "_________________________________________________________________\n",
      "Layer (type)                 Output Shape              Param #   \n",
      "=================================================================\n",
      "bidirectional_5 (Bidirection (None, 4096)              41959424  \n",
      "_________________________________________________________________\n",
      "dense_9 (Dense)              (None, 512)               2097664   \n",
      "_________________________________________________________________\n",
      "dropout_5 (Dropout)          (None, 512)               0         \n",
      "_________________________________________________________________\n",
      "dense_10 (Dense)             (None, 4)                 2052      \n",
      "=================================================================\n",
      "Total params: 44,059,140\n",
      "Trainable params: 44,059,140\n",
      "Non-trainable params: 0\n",
      "_________________________________________________________________\n"
     ]
    }
   ],
   "source": [
    "model.summary()"
   ]
  },
  {
   "cell_type": "code",
   "execution_count": 0,
   "metadata": {
    "colab": {},
    "colab_type": "code",
    "id": "TTMlZJBpAkbc"
   },
   "outputs": [],
   "source": [
    "model.save('bi-lstm.hdf5')"
   ]
  },
  {
   "cell_type": "code",
   "execution_count": 0,
   "metadata": {
    "colab": {},
    "colab_type": "code",
    "id": "1XFut9buC3su"
   },
   "outputs": [],
   "source": [
    "!cp bi-lstm.hdf5 drive/My\\ Drive/Colab\\ Notebooks/"
   ]
  },
  {
   "cell_type": "code",
   "execution_count": 0,
   "metadata": {
    "colab": {
     "base_uri": "https://localhost:8080/",
     "height": 34
    },
    "colab_type": "code",
    "id": "esBLxiFRDF21",
    "outputId": "0d2240ab-1d32-4fa1-f104-07d2743ab757"
   },
   "outputs": [
    {
     "name": "stdout",
     "output_type": "stream",
     "text": [
      "643/643 [==============================] - 15s 24ms/step\n"
     ]
    }
   ],
   "source": [
    "loss,accuracy = model.evaluate(X_train,y_train)"
   ]
  },
  {
   "cell_type": "code",
   "execution_count": 0,
   "metadata": {
    "colab": {
     "base_uri": "https://localhost:8080/",
     "height": 52
    },
    "colab_type": "code",
    "id": "5ns955jMDcRh",
    "outputId": "065b7ab0-c3d4-4a39-d359-9c9dd1288ce6"
   },
   "outputs": [
    {
     "name": "stdout",
     "output_type": "stream",
     "text": [
      "accuracy on train dataset 100.000\n",
      "Loss 0.006\n"
     ]
    }
   ],
   "source": [
    "print(\"accuracy on train dataset %.3f\\nLoss %.3f\"%(accuracy*100,loss*100))"
   ]
  },
  {
   "cell_type": "code",
   "execution_count": 0,
   "metadata": {
    "colab": {},
    "colab_type": "code",
    "id": "_xRFQXFlD4Dh"
   },
   "outputs": [],
   "source": []
  }
 ],
 "metadata": {
  "accelerator": "TPU",
  "colab": {
   "collapsed_sections": [],
   "name": "bilstm.ipynb",
   "provenance": []
  },
  "kernelspec": {
   "display_name": "Python 3",
   "language": "python",
   "name": "python3"
  },
  "language_info": {
   "codemirror_mode": {
    "name": "ipython",
    "version": 3
   },
   "file_extension": ".py",
   "mimetype": "text/x-python",
   "name": "python",
   "nbconvert_exporter": "python",
   "pygments_lexer": "ipython3",
   "version": "3.7.4"
  }
 },
 "nbformat": 4,
 "nbformat_minor": 1
}
